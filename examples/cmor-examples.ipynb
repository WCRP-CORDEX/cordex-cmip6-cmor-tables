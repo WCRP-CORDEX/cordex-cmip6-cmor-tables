{
 "cells": [
  {
   "cell_type": "markdown",
   "id": "8861f0ac-7ef2-4ce0-b9bd-b7364d946549",
   "metadata": {
    "tags": []
   },
   "source": [
    "# Examples of CORDEX-CMIP6 cmorization"
   ]
  },
  {
   "cell_type": "markdown",
   "id": "74dc9c2b-c851-40a0-85a7-9e6b2b0040d3",
   "metadata": {},
   "source": [
    "This notebook should show some examples of how a cmorized CORDEX-CMIP6 dataset could look like."
   ]
  },
  {
   "cell_type": "code",
   "execution_count": null,
   "id": "af226712-aede-4d95-9c17-b2189f3a70e0",
   "metadata": {},
   "outputs": [],
   "source": [
    "!ls ../Tables"
   ]
  },
  {
   "cell_type": "markdown",
   "id": "e477b7c0-0b49-456a-a5f6-7c3854a6a35b",
   "metadata": {
    "tags": []
   },
   "source": [
    "## Controlled Vocabulary\n",
    "\n",
    "The current `CORDEX-CMIP6_CV.json` file contains the controlled vocabulary used by the CMOR3 library for rewriting the model output. Let's have a look:"
   ]
  },
  {
   "cell_type": "code",
   "execution_count": null,
   "id": "9713b39a-90ef-46dd-9518-cecda6cf877b",
   "metadata": {},
   "outputs": [],
   "source": [
    "from IPython.display import JSON\n",
    "import json\n",
    "import pprint\n",
    "\n",
    "# Opening JSON file\n",
    "with open(\"../Tables/CORDEX-CMIP6_CV.json\") as json_file:\n",
    "    CV = json.load(json_file)[\"CV\"]\n",
    "    \n",
    "JSON(CV['required_global_attributes'])\n",
    "JSON(CV)"
   ]
  }
 ],
 "metadata": {
  "kernelspec": {
   "display_name": "Python [conda env:pyremo-test]",
   "language": "python",
   "name": "conda-env-pyremo-test-py"
  },
  "language_info": {
   "codemirror_mode": {
    "name": "ipython",
    "version": 3
   },
   "file_extension": ".py",
   "mimetype": "text/x-python",
   "name": "python",
   "nbconvert_exporter": "python",
   "pygments_lexer": "ipython3",
   "version": "3.9.10"
  }
 },
 "nbformat": 4,
 "nbformat_minor": 5
}
