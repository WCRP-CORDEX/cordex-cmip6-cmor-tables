{
 "cells": [
  {
   "cell_type": "code",
   "execution_count": 1,
   "id": "62008425-4655-41e3-9031-38635daaa29e",
   "metadata": {},
   "outputs": [],
   "source": [
    "%load_ext autoreload\n",
    "%autoreload 2"
   ]
  },
  {
   "cell_type": "markdown",
   "id": "8861f0ac-7ef2-4ce0-b9bd-b7364d946549",
   "metadata": {
    "tags": []
   },
   "source": [
    "# Examples of CORDEX-CMIP6 cmorization"
   ]
  },
  {
   "cell_type": "markdown",
   "id": "74dc9c2b-c851-40a0-85a7-9e6b2b0040d3",
   "metadata": {},
   "source": [
    "This notebook should show some examples of how a cmorized CORDEX-CMIP6 dataset could look like."
   ]
  },
  {
   "cell_type": "code",
   "execution_count": 2,
   "id": "af226712-aede-4d95-9c17-b2189f3a70e0",
   "metadata": {},
   "outputs": [
    {
     "name": "stdout",
     "output_type": "stream",
     "text": [
      "CMIP6_CV.json             CORDEX_6hr.json           CORDEX_fx.json\n",
      "CMIP6_coordinate.json     CORDEX_CV.json            CORDEX_grids.json\n",
      "CMIP6_formula_terms.json  CORDEX_coordinate.json    CORDEX_mon.json\n",
      "CMIP6_grids.json          CORDEX_day.json           CORDEX_remo_example.json\n",
      "CORDEX_1hr.json           CORDEX_formula_terms.json\n"
     ]
    }
   ],
   "source": [
    "!ls ../Tables"
   ]
  },
  {
   "cell_type": "markdown",
   "id": "e477b7c0-0b49-456a-a5f6-7c3854a6a35b",
   "metadata": {
    "tags": []
   },
   "source": [
    "## Controlled Vocabulary\n",
    "\n",
    "The current `CORDEX-CMIP6_CV.json` file contains the controlled vocabulary used by the CMOR3 library for rewriting the model output. Let's have a look:"
   ]
  },
  {
   "cell_type": "code",
   "execution_count": 3,
   "id": "9713b39a-90ef-46dd-9518-cecda6cf877b",
   "metadata": {},
   "outputs": [
    {
     "name": "stdout",
     "output_type": "stream",
     "text": [
      "['Conventions',\n",
      " 'activity_id',\n",
      " 'contact',\n",
      " 'creation_date',\n",
      " 'domain_id',\n",
      " 'domain',\n",
      " 'driving_experiment',\n",
      " 'driving_experiment_id',\n",
      " 'driving_institution_id',\n",
      " 'driving_source_id',\n",
      " 'driving_variant_label',\n",
      " 'frequency',\n",
      " 'further_info_url',\n",
      " 'institution',\n",
      " 'institution_id',\n",
      " 'mip_era',\n",
      " 'native_resolution',\n",
      " 'product',\n",
      " 'project_id',\n",
      " 'realm',\n",
      " 'source',\n",
      " 'source_id',\n",
      " 'source_type',\n",
      " 'version_realization',\n",
      " 'tracking_id',\n",
      " 'variable_id',\n",
      " 'license']\n"
     ]
    }
   ],
   "source": [
    "import json\n",
    "import pprint\n",
    "\n",
    "from IPython.display import JSON\n",
    "\n",
    "# Opening JSON file\n",
    "with open(\"../Tables/CORDEX_CV.json\") as json_file:\n",
    "    CV = json.load(json_file)[\"CV\"]\n",
    "\n",
    "# JSON(CV['required_global_attributes'])\n",
    "pprint.pprint(CV[\"required_global_attributes\"])"
   ]
  },
  {
   "cell_type": "markdown",
   "id": "71980019-57e9-49da-bb5a-259497f81313",
   "metadata": {},
   "source": [
    "## Cmorization example\n",
    "\n",
    "We use the `pyremo.cmor` module to create an example of a CORDEX-CMIP6 dataset."
   ]
  },
  {
   "cell_type": "code",
   "execution_count": 4,
   "id": "0f702069-e235-4936-af9f-a85031ae01bd",
   "metadata": {
    "tags": [
     "hide-input",
     "remove-output"
    ]
   },
   "outputs": [],
   "source": [
    "import os\n",
    "\n",
    "import cordex as cx\n",
    "import xarray as xr\n",
    "from cordex import cmor as cmor\n",
    "\n",
    "table_dir = \"../Tables\"\n",
    "\n",
    "cmor.set_options(table_prefix=\"CORDEX\")\n",
    "\n",
    "\n",
    "def test_cmorizer_fx():\n",
    "    ds = cx.cordex_domain(\"EUR-11\", dummy=\"topo\")\n",
    "    filename = cmor.cmorize_variable(\n",
    "        ds,\n",
    "        \"orog\",\n",
    "        mapping_table={\"orog\": {\"varname\": \"topo\"}},\n",
    "        cmor_table=os.path.join(table_dir, \"CORDEX_fx.json\"),\n",
    "        dataset_table=os.path.join(table_dir, \"CORDEX_remo_example.json\"),\n",
    "        grids_table=os.path.join(table_dir, \"CORDEX_grids.json\"),\n",
    "        CORDEX_domain=\"EUR-11\",\n",
    "        time_units=None,\n",
    "        allow_units_convert=True,\n",
    "    )\n",
    "    return filename\n",
    "\n",
    "\n",
    "def test_cmorizer_mon():\n",
    "    ds = cx.tutorial.open_dataset(\"remo_EUR-11_TEMP2_mon\")\n",
    "    filename = cmor.cmorize_variable(\n",
    "        ds,\n",
    "        \"tas\",\n",
    "        mapping_table={\"tas\": {\"varname\": \"TEMP2\"}},\n",
    "        cmor_table=os.path.join(table_dir, \"CORDEX_mon.json\"),\n",
    "        dataset_table=os.path.join(table_dir, \"CORDEX_remo_example.json\"),\n",
    "        grids_table=os.path.join(table_dir, \"CORDEX_grids.json\"),\n",
    "        CORDEX_domain=\"EUR-11\",\n",
    "        time_units=None,\n",
    "        allow_units_convert=True,\n",
    "    )\n",
    "    return filename\n",
    "\n",
    "\n",
    "def test_cmorizer_subdaily(table):\n",
    "    ds = cx.tutorial.open_dataset(\"remo_EUR-11_TEMP2_1hr\")\n",
    "    filename = cmor.cmorize_variable(\n",
    "        ds,\n",
    "        \"tas\",\n",
    "        mapping_table={\"tas\": {\"varname\": \"TEMP2\"}},\n",
    "        cmor_table=os.path.join(table_dir, f\"CORDEX_{table}.json\"),\n",
    "        dataset_table=os.path.join(table_dir, \"CORDEX_remo_example.json\"),\n",
    "        grids_table=os.path.join(table_dir, \"CORDEX_grids.json\"),\n",
    "        CORDEX_domain=\"EUR-11\",\n",
    "        time_units=None,\n",
    "        allow_units_convert=True,\n",
    "        allow_resample=True,\n",
    "    )\n",
    "    return filename"
   ]
  },
  {
   "cell_type": "markdown",
   "id": "dbca2634-91ef-43a1-b9dc-c19c7b426c24",
   "metadata": {},
   "source": [
    "## Example from `fx` table"
   ]
  },
  {
   "cell_type": "code",
   "execution_count": 5,
   "id": "43e18130-e5dc-4397-a7e3-f245e7605e3f",
   "metadata": {
    "tags": [
     "remove-output"
    ]
   },
   "outputs": [
    {
     "name": "stderr",
     "output_type": "stream",
     "text": [
      "/Users/buntemey/python/packages/py-cordex/cordex/cmor/utils.py:334: UserWarning: writing temporary table to /var/folders/xf/4_4br5p151d003jrl3qnb3gh0000gp/T/tmpuwygjev_\n",
      "  warn(f\"writing temporary table to {filename}\")\n"
     ]
    }
   ],
   "source": [
    "f = test_cmorizer_fx()"
   ]
  },
  {
   "cell_type": "markdown",
   "id": "d8fd9221-88c8-45ec-b3e1-9380944ab249",
   "metadata": {},
   "source": [
    "Let's have a look at the filename."
   ]
  },
  {
   "cell_type": "code",
   "execution_count": 6,
   "id": "9e99e729-48f0-4a68-9f5e-b899406979f0",
   "metadata": {},
   "outputs": [
    {
     "data": {
      "text/plain": [
       "'CORDEX/CORDEX/CMIP6/RCM/EUR-11/GERICS/ECMWF-ERA5/evaluation/r1i1p1f1/REMO2020/v1/fx/orog/v20231023/orog_EUR-11_ECMWF-ERA5_evaluation_r1i1p1f1_GERICS_REMO2020_v1_fx.nc'"
      ]
     },
     "execution_count": 6,
     "metadata": {},
     "output_type": "execute_result"
    }
   ],
   "source": [
    "f"
   ]
  },
  {
   "cell_type": "code",
   "execution_count": 7,
   "id": "4d0b84ab-7b24-4cfb-8be0-583eee6cff6d",
   "metadata": {},
   "outputs": [
    {
     "name": "stdout",
     "output_type": "stream",
     "text": [
      "netcdf orog_EUR-11_ECMWF-ERA5_evaluation_r1i1p1f1_GERICS_REMO2020_v1_fx {\n",
      "dimensions:\n",
      "\trlat = 412 ;\n",
      "\trlon = 424 ;\n",
      "\tbnds = 2 ;\n",
      "\tvertices = 4 ;\n",
      "variables:\n",
      "\tdouble rlat(rlat) ;\n",
      "\t\trlat:units = \"degrees\" ;\n",
      "\t\trlat:axis = \"Y\" ;\n",
      "\t\trlat:long_name = \"latitude in rotated pole grid\" ;\n",
      "\t\trlat:standard_name = \"grid_latitude\" ;\n",
      "\tdouble rlon(rlon) ;\n",
      "\t\trlon:units = \"degrees\" ;\n",
      "\t\trlon:axis = \"X\" ;\n",
      "\t\trlon:long_name = \"longitude in rotated pole grid\" ;\n",
      "\t\trlon:standard_name = \"grid_longitude\" ;\n",
      "\tint rotated_latitude_longitude ;\n",
      "\t\trotated_latitude_longitude:grid_mapping_name = \"rotated_latitude_longitude\" ;\n",
      "\t\trotated_latitude_longitude:grid_north_pole_latitude = 39.25 ;\n",
      "\t\trotated_latitude_longitude:grid_north_pole_longitude = -162. ;\n",
      "\t\trotated_latitude_longitude:north_pole_grid_longitude = 0. ;\n",
      "\tdouble latitude(rlat, rlon) ;\n",
      "\t\tlatitude:standard_name = \"latitude\" ;\n",
      "\t\tlatitude:long_name = \"latitude\" ;\n",
      "\t\tlatitude:units = \"degrees_north\" ;\n",
      "\t\tlatitude:missing_value = 1.e+20 ;\n",
      "\t\tlatitude:_FillValue = 1.e+20 ;\n",
      "\t\tlatitude:bounds = \"vertices_latitude\" ;\n",
      "\tdouble longitude(rlat, rlon) ;\n",
      "\t\tlongitude:standard_name = \"longitude\" ;\n",
      "\t\tlongitude:long_name = \"longitude\" ;\n",
      "\t\tlongitude:units = \"degrees_east\" ;\n",
      "\t\tlongitude:missing_value = 1.e+20 ;\n",
      "\t\tlongitude:_FillValue = 1.e+20 ;\n",
      "\t\tlongitude:bounds = \"vertices_longitude\" ;\n",
      "\tdouble vertices_latitude(rlat, rlon, vertices) ;\n",
      "\t\tvertices_latitude:units = \"degrees_north\" ;\n",
      "\t\tvertices_latitude:missing_value = 1.e+20 ;\n",
      "\t\tvertices_latitude:_FillValue = 1.e+20 ;\n",
      "\tdouble vertices_longitude(rlat, rlon, vertices) ;\n",
      "\t\tvertices_longitude:units = \"degrees_east\" ;\n",
      "\t\tvertices_longitude:missing_value = 1.e+20 ;\n",
      "\t\tvertices_longitude:_FillValue = 1.e+20 ;\n",
      "\tfloat orog(rlat, rlon) ;\n",
      "\t\torog:standard_name = \"surface_altitude\" ;\n",
      "\t\torog:long_name = \"Surface Altitude\" ;\n",
      "\t\torog:units = \"m\" ;\n",
      "\t\torog:cell_methods = \"area: mean\" ;\n",
      "\t\torog:cell_measures = \"area: areacella\" ;\n",
      "\t\torog:missing_value = 1.e+20f ;\n",
      "\t\torog:_FillValue = 1.e+20f ;\n",
      "\t\torog:grid_mapping = \"rotated_latitude_longitude\" ;\n",
      "\t\torog:coordinates = \"latitude longitude\" ;\n",
      "\n",
      "// global attributes:\n",
      "\t\t:Conventions = \"CF-1.7 CMIP-6.2\" ;\n",
      "\t\t:activity_id = \"RCM\" ;\n",
      "\t\t:contact = \"gerics-cordex@hereon.de\" ;\n",
      "\t\t:creation_date = \"2023-10-23T15:12:14Z\" ;\n",
      "\t\t:data_specs_version = \"0.0.2\" ;\n",
      "\t\t:domain = \"Europe\" ;\n",
      "\t\t:domain_id = \"EUR-11\" ;\n",
      "\t\t:driving_experiment = \"evaluation with ERA5\" ;\n",
      "\t\t:driving_experiment_id = \"evaluation\" ;\n",
      "\t\t:driving_institution_id = \"ECMWF\" ;\n",
      "\t\t:driving_source_id = \"ECMWF-ERA5\" ;\n",
      "\t\t:driving_variant_label = \"r1i1p1f1\" ;\n",
      "\t\t:experiment_id = \"evaluation\" ;\n",
      "\t\t:external_variables = \"areacella\" ;\n",
      "\t\t:frequency = \"fx\" ;\n",
      "\t\t:further_info_url = \"https://furtherinfo.es-doc.org/.*\" ;\n",
      "\t\t:history = \"2023-10-23T15:12:14Z ;rewrote data to be consistent with CORDEX for variable orog found in table fx.\" ;\n",
      "\t\t:institution = \"Climate Service Center Germany, Helmholtz Centre hereon GmbH, Fischertwiete 1, 20095 Hamburg, Germany\" ;\n",
      "\t\t:institution_id = \"GERICS\" ;\n",
      "\t\t:mip_era = \"CMIP6\" ;\n",
      "\t\t:native_resolution = \"0.11 degree\" ;\n",
      "\t\t:product = \"model-output\" ;\n",
      "\t\t:project_id = \"CORDEX\" ;\n",
      "\t\t:realm = \"atmos\" ;\n",
      "\t\t:references = \"https://www.remo-rcm.de\" ;\n",
      "\t\t:run_variant = \"1st realization\" ;\n",
      "\t\t:source = \"REMO2020 (2022): \\n\",\n",
      "\t\t\t\"aerosol: MACv2\\n\",\n",
      "\t\t\t\"atmos: dynamic\\n\",\n",
      "\t\t\t\"atmosChem: none\\n\",\n",
      "\t\t\t\"land: none\\n\",\n",
      "\t\t\t\"landIce: none\\n\",\n",
      "\t\t\t\"ocean: prescribed\\n\",\n",
      "\t\t\t\"lake: FLake\\n\",\n",
      "\t\t\t\"ocnBgchem: none\\n\",\n",
      "\t\t\t\"seaIce: none\" ;\n",
      "\t\t:source_id = \"REMO2020\" ;\n",
      "\t\t:source_type = \"ARCM\" ;\n",
      "\t\t:table_id = \"fx\" ;\n",
      "\t\t:table_info = \"Creation Date:(11 October 2023) MD5:8d42982896245d4886b7065e74e35e33\" ;\n",
      "\t\t:title = \"REMO2020 output prepared for CMIP6\" ;\n",
      "\t\t:tracking_id = \"hdl:21.14100/7531b09b-c4e1-45c9-8481-306baeedd61b\" ;\n",
      "\t\t:variable_id = \"orog\" ;\n",
      "\t\t:version_realization = \"v1\" ;\n",
      "\t\t:license = \"Creative Commons Attribution 4.0 International License (CC BY 4.0; https://creativecommons.org/licenses/by/4.0/).\" ;\n",
      "\t\t:cmor_version = \"3.7.1\" ;\n",
      "}\n"
     ]
    }
   ],
   "source": [
    "!ncdump -h $f"
   ]
  },
  {
   "cell_type": "markdown",
   "id": "4756223f-eeda-42a2-a335-e25917e404b7",
   "metadata": {},
   "source": [
    "The xarray dataset representation allows to explore the dataset interactively."
   ]
  },
  {
   "cell_type": "code",
   "execution_count": null,
   "id": "cf56c209-a9a4-4747-be3f-3e214bbc20dc",
   "metadata": {},
   "outputs": [],
   "source": [
    "ds = xr.open_dataset(f)\n",
    "ds"
   ]
  },
  {
   "cell_type": "code",
   "execution_count": null,
   "id": "db10c72c-e5f0-4ca8-b18d-b50dcb92c146",
   "metadata": {},
   "outputs": [],
   "source": [
    "ds.orog.plot()"
   ]
  },
  {
   "cell_type": "code",
   "execution_count": null,
   "id": "efd1249c-5f88-487a-810c-9d535c90b0fa",
   "metadata": {},
   "outputs": [],
   "source": [
    "!cdo verifygrid $f"
   ]
  },
  {
   "cell_type": "code",
   "execution_count": null,
   "id": "d92694bf-f5b0-4d0e-a691-dae091999477",
   "metadata": {},
   "outputs": [],
   "source": [
    "!cfchecks $f"
   ]
  },
  {
   "cell_type": "code",
   "execution_count": null,
   "id": "87e532fd-17b3-4bba-8d4b-65c32f8c6ffa",
   "metadata": {},
   "outputs": [],
   "source": [
    "!compliance-checker --test=cf:1.7 $f"
   ]
  },
  {
   "cell_type": "markdown",
   "id": "310b240d-614d-4ce1-9560-1cae48c4a612",
   "metadata": {},
   "source": [
    "## Example from `mon` table"
   ]
  },
  {
   "cell_type": "code",
   "execution_count": null,
   "id": "9b9db759-b422-40af-a697-5884d274ca5a",
   "metadata": {},
   "outputs": [],
   "source": [
    "f = test_cmorizer_mon()\n",
    "f"
   ]
  },
  {
   "cell_type": "code",
   "execution_count": null,
   "id": "123732cd-eb27-4c3f-a9d4-ddd835c8bfb2",
   "metadata": {},
   "outputs": [],
   "source": [
    "ds = xr.open_dataset(f)\n",
    "ds"
   ]
  },
  {
   "cell_type": "code",
   "execution_count": null,
   "id": "2e5c548b-c650-404f-aaa1-f8ab09890102",
   "metadata": {},
   "outputs": [],
   "source": [
    "ds.cf"
   ]
  },
  {
   "cell_type": "code",
   "execution_count": null,
   "id": "2a56e3ac-256a-4a57-8df2-4723cd4a3155",
   "metadata": {},
   "outputs": [],
   "source": [
    "ds.tas.plot(col=\"time\", col_wrap=4)"
   ]
  },
  {
   "cell_type": "code",
   "execution_count": null,
   "id": "c2661d79-a431-427f-9677-b11b2770d66f",
   "metadata": {},
   "outputs": [],
   "source": [
    "!ncdump -h $f"
   ]
  },
  {
   "cell_type": "code",
   "execution_count": null,
   "id": "418f5d70-311d-42df-bde7-55ea30a6e566",
   "metadata": {},
   "outputs": [],
   "source": [
    "!cfchecks $f"
   ]
  },
  {
   "cell_type": "code",
   "execution_count": null,
   "id": "d45cbf8b-b841-4234-9952-ce46d4b18692",
   "metadata": {},
   "outputs": [],
   "source": [
    "!compliance-checker --test=cf:1.7 $f"
   ]
  },
  {
   "cell_type": "markdown",
   "id": "7d95bbdd-5f33-471b-97d2-6f92ec5c2f6a",
   "metadata": {},
   "source": [
    "## Example from daily and subdaily tables"
   ]
  },
  {
   "cell_type": "code",
   "execution_count": null,
   "id": "10d61967-b319-4990-be63-cc810e50a6b3",
   "metadata": {},
   "outputs": [],
   "source": [
    "f = test_cmorizer_subdaily(\"1hr\")\n",
    "f"
   ]
  },
  {
   "cell_type": "code",
   "execution_count": null,
   "id": "a9682802-6534-4190-8c9e-a87999e0d1dd",
   "metadata": {},
   "outputs": [],
   "source": [
    "ds = xr.open_dataset(f)\n",
    "ds"
   ]
  },
  {
   "cell_type": "code",
   "execution_count": null,
   "id": "9ecb844f-42c4-4f7d-a0eb-380d7f39d46b",
   "metadata": {},
   "outputs": [],
   "source": [
    "!ncdump -h $f"
   ]
  },
  {
   "cell_type": "code",
   "execution_count": null,
   "id": "16aa4474-d295-4972-b4d6-7cbe59e593bd",
   "metadata": {},
   "outputs": [],
   "source": [
    "!cfchecks $f"
   ]
  },
  {
   "cell_type": "code",
   "execution_count": null,
   "id": "dae5dbe5-0e3a-4508-9b9d-0ca94ecbe64b",
   "metadata": {},
   "outputs": [],
   "source": [
    "!compliance-checker --test=cf:1.7 $f"
   ]
  },
  {
   "cell_type": "code",
   "execution_count": null,
   "id": "ca31e1d2-1fa9-4ea5-b290-f9c6977b5d3b",
   "metadata": {},
   "outputs": [],
   "source": [
    "# cordex.cmor will automatically resample hourly to other frequencies\n",
    "# depending on the frequency in the cmor table and the frequency in the\n",
    "# input dataset\n",
    "f = test_cmorizer_subdaily(\"day\")\n",
    "f"
   ]
  },
  {
   "cell_type": "code",
   "execution_count": null,
   "id": "75f73f62-0475-4a14-b55c-2b4fe93eb381",
   "metadata": {},
   "outputs": [],
   "source": [
    "ds = xr.open_dataset(f)\n",
    "ds"
   ]
  },
  {
   "cell_type": "code",
   "execution_count": null,
   "id": "3223041b-9bf1-48cb-9299-534e45b29035",
   "metadata": {},
   "outputs": [],
   "source": [
    "ds.tas.plot(col=\"time\")"
   ]
  },
  {
   "cell_type": "code",
   "execution_count": null,
   "id": "4d6d3a22-04e2-4347-a28e-334dfdc9de31",
   "metadata": {},
   "outputs": [],
   "source": [
    "!ncdump -h $f"
   ]
  },
  {
   "cell_type": "code",
   "execution_count": null,
   "id": "73c08e8f-fcad-4f3e-ab1d-622b26788414",
   "metadata": {},
   "outputs": [],
   "source": [
    "!cfchecks $f"
   ]
  },
  {
   "cell_type": "code",
   "execution_count": null,
   "id": "cf847672-4547-4fc6-b407-0317405b0157",
   "metadata": {},
   "outputs": [],
   "source": [
    "!compliance-checker --test=cf:1.7 $f"
   ]
  }
 ],
 "metadata": {
  "kernelspec": {
   "display_name": "Python [conda env:pyremo-tests]",
   "language": "python",
   "name": "conda-env-pyremo-tests-py"
  },
  "language_info": {
   "codemirror_mode": {
    "name": "ipython",
    "version": 3
   },
   "file_extension": ".py",
   "mimetype": "text/x-python",
   "name": "python",
   "nbconvert_exporter": "python",
   "pygments_lexer": "ipython3",
   "version": "3.11.0"
  }
 },
 "nbformat": 4,
 "nbformat_minor": 5
}
