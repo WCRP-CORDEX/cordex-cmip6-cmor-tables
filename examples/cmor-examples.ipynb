{
 "cells": [
  {
   "cell_type": "code",
   "execution_count": null,
   "id": "62008425-4655-41e3-9031-38635daaa29e",
   "metadata": {},
   "outputs": [],
   "source": [
    "%load_ext autoreload\n",
    "%autoreload 2"
   ]
  },
  {
   "cell_type": "markdown",
   "id": "8861f0ac-7ef2-4ce0-b9bd-b7364d946549",
   "metadata": {
    "tags": []
   },
   "source": [
    "# Examples of CORDEX-CMIP6 cmorization"
   ]
  },
  {
   "cell_type": "markdown",
   "id": "74dc9c2b-c851-40a0-85a7-9e6b2b0040d3",
   "metadata": {},
   "source": [
    "This notebook should show some examples of how a cmorized CORDEX-CMIP6 dataset could look like."
   ]
  },
  {
   "cell_type": "code",
   "execution_count": null,
   "id": "af226712-aede-4d95-9c17-b2189f3a70e0",
   "metadata": {},
   "outputs": [],
   "source": [
    "!ls ../Tables"
   ]
  },
  {
   "cell_type": "markdown",
   "id": "e477b7c0-0b49-456a-a5f6-7c3854a6a35b",
   "metadata": {
    "tags": []
   },
   "source": [
    "## Controlled Vocabulary\n",
    "\n",
    "The current `CORDEX-CMIP6_CV.json` file contains the controlled vocabulary used by the CMOR3 library for rewriting the model output. Let's have a look:"
   ]
  },
  {
   "cell_type": "code",
   "execution_count": null,
   "id": "9713b39a-90ef-46dd-9518-cecda6cf877b",
   "metadata": {},
   "outputs": [],
   "source": [
    "import json\n",
    "import pprint\n",
    "\n",
    "from IPython.display import JSON\n",
    "\n",
    "# Opening JSON file\n",
    "with open(\"../Tables/CORDEX_CV.json\") as json_file:\n",
    "    CV = json.load(json_file)[\"CV\"]\n",
    "\n",
    "# JSON(CV['required_global_attributes'])\n",
    "pprint.pprint(CV[\"required_global_attributes\"])"
   ]
  },
  {
   "cell_type": "markdown",
   "id": "71980019-57e9-49da-bb5a-259497f81313",
   "metadata": {},
   "source": [
    "## Cmorization example\n",
    "\n",
    "We use the `pyremo.cmor` module to create an example of a CORDEX-CMIP6 dataset."
   ]
  },
  {
   "cell_type": "code",
   "execution_count": null,
   "id": "0f702069-e235-4936-af9f-a85031ae01bd",
   "metadata": {
    "tags": [
     "hide-input",
     "remove-output"
    ]
   },
   "outputs": [],
   "source": [
    "import os\n",
    "\n",
    "import cordex as cx\n",
    "import xarray as xr\n",
    "from cordex import cmor as cmor\n",
    "\n",
    "table_dir = \"../Tables\"\n",
    "\n",
    "cmor.set_options(table_prefix=\"CORDEX\")\n",
    "\n",
    "\n",
    "def test_cmorizer_fx():\n",
    "    ds = cx.cordex_domain(\"EUR-11\", dummy=\"topo\")\n",
    "    filename = cmor.cmorize_variable(\n",
    "        ds,\n",
    "        \"orog\",\n",
    "        mapping_table={\"orog\": {\"varname\": \"topo\"}},\n",
    "        cmor_table=os.path.join(table_dir, \"CORDEX_fx.json\"),\n",
    "        dataset_table=os.path.join(table_dir, \"CORDEX_remo_example.json\"),\n",
    "        grids_table=os.path.join(table_dir, \"CORDEX_grids.json\"),\n",
    "        CORDEX_domain=\"EUR-11\",\n",
    "        time_units=None,\n",
    "        allow_units_convert=True,\n",
    "    )\n",
    "    return filename\n",
    "\n",
    "\n",
    "def test_cmorizer_mon():\n",
    "    ds = cx.tutorial.open_dataset(\"remo_EUR-11_TEMP2_mon\")\n",
    "    filename = cmor.cmorize_variable(\n",
    "        ds,\n",
    "        \"tas\",\n",
    "        mapping_table={\"tas\": {\"varname\": \"TEMP2\"}},\n",
    "        cmor_table=os.path.join(table_dir, \"CORDEX_mon.json\"),\n",
    "        dataset_table=os.path.join(table_dir, \"CORDEX_remo_example.json\"),\n",
    "        grids_table=os.path.join(table_dir, \"CORDEX_grids.json\"),\n",
    "        CORDEX_domain=\"EUR-11\",\n",
    "        time_units=None,\n",
    "        allow_units_convert=True,\n",
    "    )\n",
    "    return filename\n",
    "\n",
    "\n",
    "def test_cmorizer_subdaily(table):\n",
    "    ds = cx.tutorial.open_dataset(\"remo_EUR-11_TEMP2_1hr\")\n",
    "    filename = cmor.cmorize_variable(\n",
    "        ds,\n",
    "        \"tas\",\n",
    "        mapping_table={\"tas\": {\"varname\": \"TEMP2\"}},\n",
    "        cmor_table=os.path.join(table_dir, f\"CORDEX_{table}.json\"),\n",
    "        dataset_table=os.path.join(table_dir, \"CORDEX_remo_example.json\"),\n",
    "        grids_table=os.path.join(table_dir, \"CORDEX_grids.json\"),\n",
    "        CORDEX_domain=\"EUR-11\",\n",
    "        time_units=None,\n",
    "        allow_units_convert=True,\n",
    "        allow_resample=True,\n",
    "    )\n",
    "    return filename"
   ]
  },
  {
   "cell_type": "markdown",
   "id": "dbca2634-91ef-43a1-b9dc-c19c7b426c24",
   "metadata": {},
   "source": [
    "## Example from `fx` table"
   ]
  },
  {
   "cell_type": "code",
   "execution_count": null,
   "id": "43e18130-e5dc-4397-a7e3-f245e7605e3f",
   "metadata": {
    "tags": [
     "remove-output"
    ]
   },
   "outputs": [],
   "source": [
    "f = test_cmorizer_fx()"
   ]
  },
  {
   "cell_type": "markdown",
   "id": "d8fd9221-88c8-45ec-b3e1-9380944ab249",
   "metadata": {},
   "source": [
    "Let's have a look at the filename."
   ]
  },
  {
   "cell_type": "code",
   "execution_count": null,
   "id": "9e99e729-48f0-4a68-9f5e-b899406979f0",
   "metadata": {},
   "outputs": [],
   "source": [
    "f"
   ]
  },
  {
   "cell_type": "code",
   "execution_count": null,
   "id": "4d0b84ab-7b24-4cfb-8be0-583eee6cff6d",
   "metadata": {},
   "outputs": [],
   "source": [
    "!ncdump -h $f"
   ]
  },
  {
   "cell_type": "markdown",
   "id": "4756223f-eeda-42a2-a335-e25917e404b7",
   "metadata": {},
   "source": [
    "The xarray dataset representation allows to explore the dataset interactively."
   ]
  },
  {
   "cell_type": "code",
   "execution_count": null,
   "id": "cf56c209-a9a4-4747-be3f-3e214bbc20dc",
   "metadata": {},
   "outputs": [],
   "source": [
    "ds = xr.open_dataset(f)\n",
    "ds"
   ]
  },
  {
   "cell_type": "code",
   "execution_count": null,
   "id": "db10c72c-e5f0-4ca8-b18d-b50dcb92c146",
   "metadata": {},
   "outputs": [],
   "source": [
    "ds.orog.plot()"
   ]
  },
  {
   "cell_type": "code",
   "execution_count": null,
   "id": "efd1249c-5f88-487a-810c-9d535c90b0fa",
   "metadata": {},
   "outputs": [],
   "source": [
    "!cdo verifygrid $f"
   ]
  },
  {
   "cell_type": "code",
   "execution_count": null,
   "id": "d92694bf-f5b0-4d0e-a691-dae091999477",
   "metadata": {},
   "outputs": [],
   "source": [
    "!cfchecks $f"
   ]
  },
  {
   "cell_type": "code",
   "execution_count": null,
   "id": "87e532fd-17b3-4bba-8d4b-65c32f8c6ffa",
   "metadata": {},
   "outputs": [],
   "source": [
    "!compliance-checker --test=cf:1.7 $f"
   ]
  },
  {
   "cell_type": "markdown",
   "id": "310b240d-614d-4ce1-9560-1cae48c4a612",
   "metadata": {},
   "source": [
    "## Example from `mon` table"
   ]
  },
  {
   "cell_type": "code",
   "execution_count": null,
   "id": "9b9db759-b422-40af-a697-5884d274ca5a",
   "metadata": {},
   "outputs": [],
   "source": [
    "f = test_cmorizer_mon()\n",
    "f"
   ]
  },
  {
   "cell_type": "code",
   "execution_count": null,
   "id": "123732cd-eb27-4c3f-a9d4-ddd835c8bfb2",
   "metadata": {},
   "outputs": [],
   "source": [
    "ds = xr.open_dataset(f)\n",
    "ds"
   ]
  },
  {
   "cell_type": "code",
   "execution_count": null,
   "id": "2e5c548b-c650-404f-aaa1-f8ab09890102",
   "metadata": {},
   "outputs": [],
   "source": [
    "ds.cf"
   ]
  },
  {
   "cell_type": "code",
   "execution_count": null,
   "id": "2a56e3ac-256a-4a57-8df2-4723cd4a3155",
   "metadata": {},
   "outputs": [],
   "source": [
    "ds.tas.plot(col=\"time\", col_wrap=4)"
   ]
  },
  {
   "cell_type": "code",
   "execution_count": null,
   "id": "c2661d79-a431-427f-9677-b11b2770d66f",
   "metadata": {},
   "outputs": [],
   "source": [
    "!ncdump -h $f"
   ]
  },
  {
   "cell_type": "code",
   "execution_count": null,
   "id": "418f5d70-311d-42df-bde7-55ea30a6e566",
   "metadata": {},
   "outputs": [],
   "source": [
    "!cfchecks $f"
   ]
  },
  {
   "cell_type": "code",
   "execution_count": null,
   "id": "d45cbf8b-b841-4234-9952-ce46d4b18692",
   "metadata": {},
   "outputs": [],
   "source": [
    "!compliance-checker --test=cf:1.7 $f"
   ]
  },
  {
   "cell_type": "markdown",
   "id": "7d95bbdd-5f33-471b-97d2-6f92ec5c2f6a",
   "metadata": {},
   "source": [
    "## Example from daily and subdaily tables"
   ]
  },
  {
   "cell_type": "code",
   "execution_count": null,
   "id": "10d61967-b319-4990-be63-cc810e50a6b3",
   "metadata": {},
   "outputs": [],
   "source": [
    "f = test_cmorizer_subdaily(\"1hr\")\n",
    "f"
   ]
  },
  {
   "cell_type": "code",
   "execution_count": null,
   "id": "a9682802-6534-4190-8c9e-a87999e0d1dd",
   "metadata": {},
   "outputs": [],
   "source": [
    "ds = xr.open_dataset(f)\n",
    "ds"
   ]
  },
  {
   "cell_type": "code",
   "execution_count": null,
   "id": "9ecb844f-42c4-4f7d-a0eb-380d7f39d46b",
   "metadata": {},
   "outputs": [],
   "source": [
    "!ncdump -h $f"
   ]
  },
  {
   "cell_type": "code",
   "execution_count": null,
   "id": "16aa4474-d295-4972-b4d6-7cbe59e593bd",
   "metadata": {},
   "outputs": [],
   "source": [
    "!cfchecks $f"
   ]
  },
  {
   "cell_type": "code",
   "execution_count": null,
   "id": "dae5dbe5-0e3a-4508-9b9d-0ca94ecbe64b",
   "metadata": {},
   "outputs": [],
   "source": [
    "!compliance-checker --test=cf:1.7 $f"
   ]
  },
  {
   "cell_type": "code",
   "execution_count": null,
   "id": "ca31e1d2-1fa9-4ea5-b290-f9c6977b5d3b",
   "metadata": {},
   "outputs": [],
   "source": [
    "# cordex.cmor will automatically resample hourly to other frequencies\n",
    "# depending on the frequency in the cmor table and the frequency in the\n",
    "# input dataset\n",
    "f = test_cmorizer_subdaily(\"day\")\n",
    "f"
   ]
  },
  {
   "cell_type": "code",
   "execution_count": null,
   "id": "75f73f62-0475-4a14-b55c-2b4fe93eb381",
   "metadata": {},
   "outputs": [],
   "source": [
    "ds = xr.open_dataset(f)\n",
    "ds"
   ]
  },
  {
   "cell_type": "code",
   "execution_count": null,
   "id": "3223041b-9bf1-48cb-9299-534e45b29035",
   "metadata": {},
   "outputs": [],
   "source": [
    "ds.tas.plot(col=\"time\")"
   ]
  },
  {
   "cell_type": "code",
   "execution_count": null,
   "id": "4d6d3a22-04e2-4347-a28e-334dfdc9de31",
   "metadata": {},
   "outputs": [],
   "source": [
    "!ncdump -h $f"
   ]
  },
  {
   "cell_type": "code",
   "execution_count": null,
   "id": "73c08e8f-fcad-4f3e-ab1d-622b26788414",
   "metadata": {},
   "outputs": [],
   "source": [
    "!cfchecks $f"
   ]
  },
  {
   "cell_type": "code",
   "execution_count": null,
   "id": "cf847672-4547-4fc6-b407-0317405b0157",
   "metadata": {},
   "outputs": [],
   "source": [
    "!compliance-checker --test=cf:1.7 $f"
   ]
  }
 ],
 "metadata": {
  "kernelspec": {
   "display_name": "Python 3 (ipykernel)",
   "language": "python",
   "name": "python3"
  },
  "language_info": {
   "codemirror_mode": {
    "name": "ipython",
    "version": 3
   },
   "file_extension": ".py",
   "mimetype": "text/x-python",
   "name": "python",
   "nbconvert_exporter": "python",
   "pygments_lexer": "ipython3",
   "version": "3.9.5"
  }
 },
 "nbformat": 4,
 "nbformat_minor": 5
}
