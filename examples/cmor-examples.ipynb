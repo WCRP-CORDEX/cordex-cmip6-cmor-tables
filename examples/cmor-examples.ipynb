{
 "cells": [
  {
   "cell_type": "markdown",
   "id": "8861f0ac-7ef2-4ce0-b9bd-b7364d946549",
   "metadata": {},
   "source": [
    "# Examples of CORDEX-CMIP6 cmorization"
   ]
  },
  {
   "cell_type": "code",
   "execution_count": null,
   "id": "10567701-1b9b-49ed-bed1-38ce69693e8b",
   "metadata": {},
   "outputs": [],
   "source": []
  }
 ],
 "metadata": {
  "kernelspec": {
   "display_name": "Python [conda env:pyremo-test]",
   "language": "python",
   "name": "conda-env-pyremo-test-py"
  },
  "language_info": {
   "codemirror_mode": {
    "name": "ipython",
    "version": 3
   },
   "file_extension": ".py",
   "mimetype": "text/x-python",
   "name": "python",
   "nbconvert_exporter": "python",
   "pygments_lexer": "ipython3",
   "version": "3.9.10"
  }
 },
 "nbformat": 4,
 "nbformat_minor": 5
}
