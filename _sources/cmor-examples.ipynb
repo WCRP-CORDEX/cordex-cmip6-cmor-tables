{
 "cells": [
  {
   "cell_type": "markdown",
   "id": "8861f0ac-7ef2-4ce0-b9bd-b7364d946549",
   "metadata": {
    "tags": []
   },
   "source": [
    "# Examples of CORDEX-CMIP6 cmorization"
   ]
  },
  {
   "cell_type": "markdown",
   "id": "74dc9c2b-c851-40a0-85a7-9e6b2b0040d3",
   "metadata": {},
   "source": [
    "This notebook should show some examples of how a cmorized CORDEX-CMIP6 dataset could look like."
   ]
  },
  {
   "cell_type": "code",
   "execution_count": null,
   "id": "af226712-aede-4d95-9c17-b2189f3a70e0",
   "metadata": {},
   "outputs": [],
   "source": [
    "!ls ../Tables"
   ]
  },
  {
   "cell_type": "markdown",
   "id": "e477b7c0-0b49-456a-a5f6-7c3854a6a35b",
   "metadata": {
    "tags": []
   },
   "source": [
    "## Controlled Vocabulary\n",
    "\n",
    "The current `CORDEX-CMIP6_CV.json` file contains the controlled vocabulary used by the CMOR3 library for rewriting the model output. Let's have a look:"
   ]
  },
  {
   "cell_type": "code",
   "execution_count": null,
   "id": "9713b39a-90ef-46dd-9518-cecda6cf877b",
   "metadata": {},
   "outputs": [],
   "source": [
    "import json\n",
    "import pprint\n",
    "\n",
    "from IPython.display import JSON\n",
    "\n",
    "# Opening JSON file\n",
    "with open(\"../Tables/CORDEX-CMIP6_CV.json\") as json_file:\n",
    "    CV = json.load(json_file)[\"CV\"]\n",
    "\n",
    "# JSON(CV['required_global_attributes'])\n",
    "pprint.pprint(CV[\"required_global_attributes\"])"
   ]
  },
  {
   "cell_type": "markdown",
   "id": "71980019-57e9-49da-bb5a-259497f81313",
   "metadata": {},
   "source": [
    "## Cmorization example\n",
    "\n",
    "We use the `pyremo.cmor` module to create an example of a CORDEX-CMIP6 dataset."
   ]
  },
  {
   "cell_type": "code",
   "execution_count": null,
   "id": "ffdb9b88-ed40-4c88-9874-2b3c7e8f6811",
   "metadata": {
    "tags": [
     "remove-cell"
    ]
   },
   "outputs": [],
   "source": [
    "import cordex as cx\n",
    "\n",
    "eur11 = cx.cordex_domain(\"EUR-11\")"
   ]
  },
  {
   "cell_type": "code",
   "execution_count": null,
   "id": "0f702069-e235-4936-af9f-a85031ae01bd",
   "metadata": {},
   "outputs": [],
   "source": [
    "import os\n",
    "\n",
    "import cordex as cx\n",
    "import pyremo as pr\n",
    "\n",
    "# import pytest\n",
    "import xarray as xr\n",
    "from pyremo import cmor as prcmor\n",
    "\n",
    "table_dir = \"../Tables\"\n",
    "\n",
    "\n",
    "def test_cmorizer_fx():\n",
    "    ds = pr.data.surflib(\"EUR-11\")\n",
    "    eur11 = cx.cordex_domain(\"EUR-11\")\n",
    "    ds = ds.assign_coords({\"lon\": eur11.lon, \"lat\": eur11.lat})\n",
    "    filename = prcmor.cmorize_variable(\n",
    "        ds,\n",
    "        \"orog\",\n",
    "        cmor_table=os.path.join(table_dir, \"CORDEX-CMIP6_fx.json\"),\n",
    "        dataset_table=os.path.join(table_dir, \"CORDEX-CMIP6_remo_example.json\"),\n",
    "        grids_table=os.path.join(table_dir, \"CORDEX-CMIP6_grids.json\"),\n",
    "        CORDEX_domain=\"EUR-11\",\n",
    "        time_units=None,\n",
    "        allow_units_convert=True,\n",
    "    )\n",
    "    return filename"
   ]
  },
  {
   "cell_type": "code",
   "execution_count": null,
   "id": "9e99e729-48f0-4a68-9f5e-b899406979f0",
   "metadata": {},
   "outputs": [],
   "source": [
    "filename = test_cmorizer_fx()"
   ]
  },
  {
   "cell_type": "markdown",
   "id": "d8fd9221-88c8-45ec-b3e1-9380944ab249",
   "metadata": {},
   "source": [
    "Let's have a look at the filename."
   ]
  },
  {
   "cell_type": "code",
   "execution_count": null,
   "id": "bf4d3a59-fd6b-4b69-aec4-d0e9c7b848b9",
   "metadata": {},
   "outputs": [],
   "source": [
    "filename"
   ]
  },
  {
   "cell_type": "code",
   "execution_count": null,
   "id": "4d0b84ab-7b24-4cfb-8be0-583eee6cff6d",
   "metadata": {},
   "outputs": [],
   "source": [
    "!ncdump -h $filename"
   ]
  },
  {
   "cell_type": "code",
   "execution_count": null,
   "id": "cf56c209-a9a4-4747-be3f-3e214bbc20dc",
   "metadata": {},
   "outputs": [],
   "source": [
    "ds = xr.open_dataset(filename)\n",
    "ds"
   ]
  }
 ],
 "metadata": {
  "kernelspec": {
   "display_name": "Python 3 (ipykernel)",
   "language": "python",
   "name": "python3"
  },
  "language_info": {
   "codemirror_mode": {
    "name": "ipython",
    "version": 3
   },
   "file_extension": ".py",
   "mimetype": "text/x-python",
   "name": "python",
   "nbconvert_exporter": "python",
   "pygments_lexer": "ipython3",
   "version": "3.9.5"
  }
 },
 "nbformat": 4,
 "nbformat_minor": 5
}
